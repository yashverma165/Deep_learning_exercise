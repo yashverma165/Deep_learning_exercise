{
  "nbformat": 4,
  "nbformat_minor": 0,
  "metadata": {
    "colab": {
      "provenance": [],
      "gpuType": "T4",
      "authorship_tag": "ABX9TyNv0Z2UMZ4knTj/LMRTpW86",
      "include_colab_link": true
    },
    "kernelspec": {
      "name": "python3",
      "display_name": "Python 3"
    },
    "language_info": {
      "name": "python"
    },
    "accelerator": "GPU"
  },
  "cells": [
    {
      "cell_type": "markdown",
      "metadata": {
        "id": "view-in-github",
        "colab_type": "text"
      },
      "source": [
        "<a href=\"https://colab.research.google.com/github/yashverma165/Deep_learning_exercise/blob/main/Impelmentation_of_ANN_using_Keras.ipynb\" target=\"_parent\"><img src=\"https://colab.research.google.com/assets/colab-badge.svg\" alt=\"Open In Colab\"/></a>"
      ]
    },
    {
      "cell_type": "markdown",
      "source": [
        "# Impelmentation of ANN using Keras"
      ],
      "metadata": {
        "id": "GyULQElTOxXV"
      }
    },
    {
      "cell_type": "code",
      "execution_count": null,
      "metadata": {
        "id": "AHndz3Tqap3J"
      },
      "outputs": [],
      "source": [
        "import pandas as pd\n",
        "import numpy as np\n",
        "import matplotlib.pyplot as plt\n",
        "import os\n",
        "import seaborn as sns\n",
        "import tensorflow as tf\n",
        "import keras\n",
        "\n"
      ]
    },
    {
      "cell_type": "code",
      "source": [
        "print(f\"Tensorflow version {tf.__version__}\")\n",
        "print(f\"Keras version {keras.__version__}\")"
      ],
      "metadata": {
        "colab": {
          "base_uri": "https://localhost:8080/"
        },
        "id": "NZ7A8bCePgzb",
        "outputId": "515014a1-2eaf-4219-b954-aec9d69cd9ab"
      },
      "execution_count": null,
      "outputs": [
        {
          "output_type": "stream",
          "name": "stdout",
          "text": [
            "Tensorflow version 2.14.0\n",
            "Keras version 2.14.0\n"
          ]
        }
      ]
    },
    {
      "cell_type": "code",
      "source": [
        "os.getcwd()"
      ],
      "metadata": {
        "colab": {
          "base_uri": "https://localhost:8080/",
          "height": 36
        },
        "id": "G4fSCZqcQE_L",
        "outputId": "01b8fd96-e841-4815-e9e0-c3cf5444eea5"
      },
      "execution_count": null,
      "outputs": [
        {
          "output_type": "execute_result",
          "data": {
            "text/plain": [
              "'/content'"
            ],
            "application/vnd.google.colaboratory.intrinsic+json": {
              "type": "string"
            }
          },
          "metadata": {},
          "execution_count": 3
        }
      ]
    },
    {
      "cell_type": "markdown",
      "source": [
        "##GPU/CPU check\n"
      ],
      "metadata": {
        "id": "m30tOhAoUtzz"
      }
    },
    {
      "cell_type": "code",
      "source": [
        "tf.config.list_physical_devices('GPU')"
      ],
      "metadata": {
        "colab": {
          "base_uri": "https://localhost:8080/"
        },
        "id": "bPAWo089Us3j",
        "outputId": "8f2353e3-db4b-4982-d085-77eac79a0073"
      },
      "execution_count": null,
      "outputs": [
        {
          "output_type": "execute_result",
          "data": {
            "text/plain": [
              "[PhysicalDevice(name='/physical_device:GPU:0', device_type='GPU')]"
            ]
          },
          "metadata": {},
          "execution_count": 4
        }
      ]
    },
    {
      "cell_type": "code",
      "source": [
        "tf.config.list_physical_devices('CPU')"
      ],
      "metadata": {
        "colab": {
          "base_uri": "https://localhost:8080/"
        },
        "id": "lu5X2n_UXC55",
        "outputId": "073ecce2-bb0f-4443-e7bd-90b2f06c2606"
      },
      "execution_count": null,
      "outputs": [
        {
          "output_type": "execute_result",
          "data": {
            "text/plain": [
              "[PhysicalDevice(name='/physical_device:CPU:0', device_type='CPU')]"
            ]
          },
          "metadata": {},
          "execution_count": 5
        }
      ]
    },
    {
      "cell_type": "code",
      "source": [
        "check_list=[\"GPU\",\"CPU\"]\n",
        "\n",
        "for device in check_list:\n",
        "  out = tf.config.list_physical_devices(device)\n",
        "  if len(out)>0:\n",
        "    print(f\"{device} is Available\")\n",
        "    print(f\"Details >>{out}\")\n",
        "  else:\n",
        "    print(f\"{device} isn't Available\")"
      ],
      "metadata": {
        "colab": {
          "base_uri": "https://localhost:8080/"
        },
        "id": "-sRIxNdnXFjy",
        "outputId": "dc98a102-221d-46fe-f432-ef37ea3ea232"
      },
      "execution_count": null,
      "outputs": [
        {
          "output_type": "stream",
          "name": "stdout",
          "text": [
            "GPU is Available\n",
            "Details >>[PhysicalDevice(name='/physical_device:GPU:0', device_type='GPU')]\n",
            "CPU is Available\n",
            "Details >>[PhysicalDevice(name='/physical_device:CPU:0', device_type='CPU')]\n"
          ]
        }
      ]
    },
    {
      "cell_type": "markdown",
      "source": [
        "##Creating a simple Classifer on keras on MNIST  Data"
      ],
      "metadata": {
        "id": "bV-TlRWTbO18"
      }
    },
    {
      "cell_type": "code",
      "source": [
        "mnist = tf.keras.datasets.mnist"
      ],
      "metadata": {
        "id": "y0DBbDa1Xvt0"
      },
      "execution_count": null,
      "outputs": []
    },
    {
      "cell_type": "code",
      "source": [
        "mnist"
      ],
      "metadata": {
        "colab": {
          "base_uri": "https://localhost:8080/"
        },
        "id": "TvqSz0zEQwyc",
        "outputId": "fdf988ef-d6db-4b7d-a051-2fed74f654e1"
      },
      "execution_count": null,
      "outputs": [
        {
          "output_type": "execute_result",
          "data": {
            "text/plain": [
              "<module 'keras.api._v2.keras.datasets.mnist' from '/usr/local/lib/python3.10/dist-packages/keras/api/_v2/keras/datasets/mnist/__init__.py'>"
            ]
          },
          "metadata": {},
          "execution_count": 8
        }
      ]
    },
    {
      "cell_type": "code",
      "source": [
        "(x_train_full , y_train_full),(x_test , y_test) = mnist.load_data()"
      ],
      "metadata": {
        "id": "fkIsz2vFQ5hb",
        "colab": {
          "base_uri": "https://localhost:8080/"
        },
        "outputId": "7f866e3a-cd9c-4f33-ddf7-7fef6f50bc69"
      },
      "execution_count": null,
      "outputs": [
        {
          "output_type": "stream",
          "name": "stdout",
          "text": [
            "Downloading data from https://storage.googleapis.com/tensorflow/tf-keras-datasets/mnist.npz\n",
            "11490434/11490434 [==============================] - 2s 0us/step\n"
          ]
        }
      ]
    },
    {
      "cell_type": "code",
      "source": [
        "x_train_full.shape"
      ],
      "metadata": {
        "colab": {
          "base_uri": "https://localhost:8080/"
        },
        "id": "QZepnHWFRGNk",
        "outputId": "f35edf31-f495-4145-870b-677e77ca66f5"
      },
      "execution_count": null,
      "outputs": [
        {
          "output_type": "execute_result",
          "data": {
            "text/plain": [
              "(60000, 28, 28)"
            ]
          },
          "metadata": {},
          "execution_count": 10
        }
      ]
    },
    {
      "cell_type": "code",
      "source": [
        "x_test.shape"
      ],
      "metadata": {
        "colab": {
          "base_uri": "https://localhost:8080/"
        },
        "id": "ZSlt6rwGTl6r",
        "outputId": "1a3f3372-e5f0-4164-91c1-342b4f72b162"
      },
      "execution_count": null,
      "outputs": [
        {
          "output_type": "execute_result",
          "data": {
            "text/plain": [
              "(10000, 28, 28)"
            ]
          },
          "metadata": {},
          "execution_count": 11
        }
      ]
    },
    {
      "cell_type": "code",
      "source": [
        "x_train_full[0].shape"
      ],
      "metadata": {
        "colab": {
          "base_uri": "https://localhost:8080/"
        },
        "id": "imnavTdsTxMl",
        "outputId": "111d61f6-2887-4744-ca72-c07afeccd235"
      },
      "execution_count": null,
      "outputs": [
        {
          "output_type": "execute_result",
          "data": {
            "text/plain": [
              "(28, 28)"
            ]
          },
          "metadata": {},
          "execution_count": 12
        }
      ]
    },
    {
      "cell_type": "code",
      "source": [
        "x_train_full[0]"
      ],
      "metadata": {
        "colab": {
          "base_uri": "https://localhost:8080/"
        },
        "id": "OoptmJrET8KN",
        "outputId": "103bbd26-82d3-4f78-8127-3304b8f753fd"
      },
      "execution_count": null,
      "outputs": [
        {
          "output_type": "execute_result",
          "data": {
            "text/plain": [
              "array([[  0,   0,   0,   0,   0,   0,   0,   0,   0,   0,   0,   0,   0,\n",
              "          0,   0,   0,   0,   0,   0,   0,   0,   0,   0,   0,   0,   0,\n",
              "          0,   0],\n",
              "       [  0,   0,   0,   0,   0,   0,   0,   0,   0,   0,   0,   0,   0,\n",
              "          0,   0,   0,   0,   0,   0,   0,   0,   0,   0,   0,   0,   0,\n",
              "          0,   0],\n",
              "       [  0,   0,   0,   0,   0,   0,   0,   0,   0,   0,   0,   0,   0,\n",
              "          0,   0,   0,   0,   0,   0,   0,   0,   0,   0,   0,   0,   0,\n",
              "          0,   0],\n",
              "       [  0,   0,   0,   0,   0,   0,   0,   0,   0,   0,   0,   0,   0,\n",
              "          0,   0,   0,   0,   0,   0,   0,   0,   0,   0,   0,   0,   0,\n",
              "          0,   0],\n",
              "       [  0,   0,   0,   0,   0,   0,   0,   0,   0,   0,   0,   0,   0,\n",
              "          0,   0,   0,   0,   0,   0,   0,   0,   0,   0,   0,   0,   0,\n",
              "          0,   0],\n",
              "       [  0,   0,   0,   0,   0,   0,   0,   0,   0,   0,   0,   0,   3,\n",
              "         18,  18,  18, 126, 136, 175,  26, 166, 255, 247, 127,   0,   0,\n",
              "          0,   0],\n",
              "       [  0,   0,   0,   0,   0,   0,   0,   0,  30,  36,  94, 154, 170,\n",
              "        253, 253, 253, 253, 253, 225, 172, 253, 242, 195,  64,   0,   0,\n",
              "          0,   0],\n",
              "       [  0,   0,   0,   0,   0,   0,   0,  49, 238, 253, 253, 253, 253,\n",
              "        253, 253, 253, 253, 251,  93,  82,  82,  56,  39,   0,   0,   0,\n",
              "          0,   0],\n",
              "       [  0,   0,   0,   0,   0,   0,   0,  18, 219, 253, 253, 253, 253,\n",
              "        253, 198, 182, 247, 241,   0,   0,   0,   0,   0,   0,   0,   0,\n",
              "          0,   0],\n",
              "       [  0,   0,   0,   0,   0,   0,   0,   0,  80, 156, 107, 253, 253,\n",
              "        205,  11,   0,  43, 154,   0,   0,   0,   0,   0,   0,   0,   0,\n",
              "          0,   0],\n",
              "       [  0,   0,   0,   0,   0,   0,   0,   0,   0,  14,   1, 154, 253,\n",
              "         90,   0,   0,   0,   0,   0,   0,   0,   0,   0,   0,   0,   0,\n",
              "          0,   0],\n",
              "       [  0,   0,   0,   0,   0,   0,   0,   0,   0,   0,   0, 139, 253,\n",
              "        190,   2,   0,   0,   0,   0,   0,   0,   0,   0,   0,   0,   0,\n",
              "          0,   0],\n",
              "       [  0,   0,   0,   0,   0,   0,   0,   0,   0,   0,   0,  11, 190,\n",
              "        253,  70,   0,   0,   0,   0,   0,   0,   0,   0,   0,   0,   0,\n",
              "          0,   0],\n",
              "       [  0,   0,   0,   0,   0,   0,   0,   0,   0,   0,   0,   0,  35,\n",
              "        241, 225, 160, 108,   1,   0,   0,   0,   0,   0,   0,   0,   0,\n",
              "          0,   0],\n",
              "       [  0,   0,   0,   0,   0,   0,   0,   0,   0,   0,   0,   0,   0,\n",
              "         81, 240, 253, 253, 119,  25,   0,   0,   0,   0,   0,   0,   0,\n",
              "          0,   0],\n",
              "       [  0,   0,   0,   0,   0,   0,   0,   0,   0,   0,   0,   0,   0,\n",
              "          0,  45, 186, 253, 253, 150,  27,   0,   0,   0,   0,   0,   0,\n",
              "          0,   0],\n",
              "       [  0,   0,   0,   0,   0,   0,   0,   0,   0,   0,   0,   0,   0,\n",
              "          0,   0,  16,  93, 252, 253, 187,   0,   0,   0,   0,   0,   0,\n",
              "          0,   0],\n",
              "       [  0,   0,   0,   0,   0,   0,   0,   0,   0,   0,   0,   0,   0,\n",
              "          0,   0,   0,   0, 249, 253, 249,  64,   0,   0,   0,   0,   0,\n",
              "          0,   0],\n",
              "       [  0,   0,   0,   0,   0,   0,   0,   0,   0,   0,   0,   0,   0,\n",
              "          0,  46, 130, 183, 253, 253, 207,   2,   0,   0,   0,   0,   0,\n",
              "          0,   0],\n",
              "       [  0,   0,   0,   0,   0,   0,   0,   0,   0,   0,   0,   0,  39,\n",
              "        148, 229, 253, 253, 253, 250, 182,   0,   0,   0,   0,   0,   0,\n",
              "          0,   0],\n",
              "       [  0,   0,   0,   0,   0,   0,   0,   0,   0,   0,  24, 114, 221,\n",
              "        253, 253, 253, 253, 201,  78,   0,   0,   0,   0,   0,   0,   0,\n",
              "          0,   0],\n",
              "       [  0,   0,   0,   0,   0,   0,   0,   0,  23,  66, 213, 253, 253,\n",
              "        253, 253, 198,  81,   2,   0,   0,   0,   0,   0,   0,   0,   0,\n",
              "          0,   0],\n",
              "       [  0,   0,   0,   0,   0,   0,  18, 171, 219, 253, 253, 253, 253,\n",
              "        195,  80,   9,   0,   0,   0,   0,   0,   0,   0,   0,   0,   0,\n",
              "          0,   0],\n",
              "       [  0,   0,   0,   0,  55, 172, 226, 253, 253, 253, 253, 244, 133,\n",
              "         11,   0,   0,   0,   0,   0,   0,   0,   0,   0,   0,   0,   0,\n",
              "          0,   0],\n",
              "       [  0,   0,   0,   0, 136, 253, 253, 253, 212, 135, 132,  16,   0,\n",
              "          0,   0,   0,   0,   0,   0,   0,   0,   0,   0,   0,   0,   0,\n",
              "          0,   0],\n",
              "       [  0,   0,   0,   0,   0,   0,   0,   0,   0,   0,   0,   0,   0,\n",
              "          0,   0,   0,   0,   0,   0,   0,   0,   0,   0,   0,   0,   0,\n",
              "          0,   0],\n",
              "       [  0,   0,   0,   0,   0,   0,   0,   0,   0,   0,   0,   0,   0,\n",
              "          0,   0,   0,   0,   0,   0,   0,   0,   0,   0,   0,   0,   0,\n",
              "          0,   0],\n",
              "       [  0,   0,   0,   0,   0,   0,   0,   0,   0,   0,   0,   0,   0,\n",
              "          0,   0,   0,   0,   0,   0,   0,   0,   0,   0,   0,   0,   0,\n",
              "          0,   0]], dtype=uint8)"
            ]
          },
          "metadata": {},
          "execution_count": 13
        }
      ]
    },
    {
      "cell_type": "code",
      "source": [
        "print(f\"data type of x_train_full:{x_train_full.dtype},\\n shape of x_train_full: {x_train_full.shape}\")"
      ],
      "metadata": {
        "colab": {
          "base_uri": "https://localhost:8080/"
        },
        "id": "ePfUFZOaUErl",
        "outputId": "56615e07-14e3-4a5a-d4be-35288d09703c"
      },
      "execution_count": null,
      "outputs": [
        {
          "output_type": "stream",
          "name": "stdout",
          "text": [
            "data type of x_train_full:uint8,\n",
            " shape of x_train_full: (60000, 28, 28)\n"
          ]
        }
      ]
    },
    {
      "cell_type": "code",
      "source": [
        "# Creating a validation dataset from full training data\n",
        "# Scalting the data between 0 to 1 by dividing by 255. as its an unsigned data between  0-255.\n",
        "x_valid, x_train = x_train_full[ :5000] / 255 , x_train_full[5000: ] / 255\n",
        "y_valid, y_train = y_train_full[ :5000]  , y_train_full[5000: ]\n",
        "\n",
        "# Scale the test set as well\n",
        "x_test = x_test/255"
      ],
      "metadata": {
        "id": "0t9BCWq0UikR"
      },
      "execution_count": null,
      "outputs": []
    },
    {
      "cell_type": "markdown",
      "source": [
        "X train = 55000\n",
        "\n",
        "X valid = 5000\n",
        "\n",
        "x test = 10000"
      ],
      "metadata": {
        "id": "omp66q36o__b"
      }
    },
    {
      "cell_type": "code",
      "source": [
        "len(x_train_full[5000:])"
      ],
      "metadata": {
        "colab": {
          "base_uri": "https://localhost:8080/"
        },
        "id": "Q9rUB9YHo7aC",
        "outputId": "6e048bff-c2e6-4a07-c04a-d9edb9cb7566"
      },
      "execution_count": null,
      "outputs": [
        {
          "output_type": "execute_result",
          "data": {
            "text/plain": [
              "55000"
            ]
          },
          "metadata": {},
          "execution_count": 16
        }
      ]
    },
    {
      "cell_type": "code",
      "source": [
        "# lets view some data\n",
        "plt.imshow(x_train[0],cmap='binary')\n",
        "plt.show()"
      ],
      "metadata": {
        "colab": {
          "base_uri": "https://localhost:8080/",
          "height": 430
        },
        "id": "gUEs60cGpWeS",
        "outputId": "a4d165ea-203d-4c1e-d2b4-812c5fb83694"
      },
      "execution_count": null,
      "outputs": [
        {
          "output_type": "display_data",
          "data": {
            "text/plain": [
              "<Figure size 640x480 with 1 Axes>"
            ],
            "image/png": "[encoded data removed]"
          },
          "metadata": {}
        }
      ]
    },
    {
      "cell_type": "code",
      "source": [
        "plt.figure(figsize=(12,12))\n",
        "sns.heatmap(x_train[0],annot=True,cmap=\"binary\")"
      ],
      "metadata": {
        "id": "uic4Y58C80Sg",
        "colab": {
          "base_uri": "https://localhost:8080/",
          "height": 1000
        },
        "outputId": "9e78ae58-402b-4d84-c680-a78f42391416"
      },
      "execution_count": null,
      "outputs": [
        {
          "output_type": "execute_result",
          "data": {
            "text/plain": [
              "<Axes: >"
            ]
          },
          "metadata": {},
          "execution_count": 18
        },
        {
          "output_type": "display_data",
          "data": {
            "text/plain": [
              "<Figure size 1200x1200 with 2 Axes>"
            ],
            "image/png": "[encoded data removed]"
          },
          "metadata": {}
        }
      ]
    },
    {
      "cell_type": "markdown",
      "source": [
        "one column contain one image in 28*28 size"
      ],
      "metadata": {
        "id": "XG3PSlI7IiPr"
      }
    },
    {
      "cell_type": "code",
      "source": [
        "28*28"
      ],
      "metadata": {
        "colab": {
          "base_uri": "https://localhost:8080/"
        },
        "id": "SHnbWeRSIO0h",
        "outputId": "0511be68-9a14-4957-8add-3f32a41428c2"
      },
      "execution_count": null,
      "outputs": [
        {
          "output_type": "execute_result",
          "data": {
            "text/plain": [
              "784"
            ]
          },
          "metadata": {},
          "execution_count": 19
        }
      ]
    },
    {
      "cell_type": "markdown",
      "source": [
        "##Architexture used:-\n",
        "Input-layer , hidden-layer , hidden-layer , Output-layer\n",
        "\n",
        "-----784---------------300-------------100----------------10         "
      ],
      "metadata": {
        "id": "vxVNYwt1Ypk4"
      }
    },
    {
      "cell_type": "markdown",
      "source": [
        "Method-1 for ANN"
      ],
      "metadata": {
        "id": "ugv2kEd_bn_9"
      }
    },
    {
      "cell_type": "code",
      "source": [
        "# Creating layers of ANN\n",
        "LAYERS=[tf.keras.layers.Flatten(input_shape=[28,28], name=\"Inputlayer\"),\n",
        "        tf.keras.layers.Dense(300, activation=\"relu\", name=\"hiddenlayer1\"),\n",
        "        tf.keras.layers.Dense(100, activation=\"relu\", name= \"hiddenlayer2\"),\n",
        "        tf.keras.layers.Dense(10, activation=\"softmax\", name=\"outputlayer\")]\n"
      ],
      "metadata": {
        "id": "khXXAIe9Yovn"
      },
      "execution_count": null,
      "outputs": []
    },
    {
      "cell_type": "code",
      "source": [
        "model_clf = tf.keras.models.Sequential(LAYERS)"
      ],
      "metadata": {
        "id": "O3jxmYjJahzn"
      },
      "execution_count": null,
      "outputs": []
    },
    {
      "cell_type": "markdown",
      "source": [
        "Method-2 for ANN"
      ],
      "metadata": {
        "id": "O4i_UZ2XbwTR"
      }
    },
    {
      "cell_type": "code",
      "source": [
        "#from keras.models import Sequential\n",
        "#from keras.layers import Dense,Flatten\n",
        "\n",
        "# define the model\n",
        "#model = Sequential()\n",
        "#model.add(Dense(units=300, activation=\"relu\", input_dim=100))\n",
        "#model.add(Dense(units=10, activation='softmax'))\n",
        "\n",
        "#compile the model\n",
        "#model.compile(loss='categorical_crossentropy', optimizer='sgd', metrics=['accuracy'])\n",
        "\n",
        "#Train the model\n",
        "#model.fit(x_train,y_train,epochs=5 , batch_size=32)"
      ],
      "metadata": {
        "id": "F6QqzlaObe1z"
      },
      "execution_count": null,
      "outputs": []
    },
    {
      "cell_type": "code",
      "source": [
        "model_clf.layers"
      ],
      "metadata": {
        "colab": {
          "base_uri": "https://localhost:8080/"
        },
        "id": "0S7-7EwEHR_G",
        "outputId": "4b4f466a-3dce-4b11-af81-80c225bce6dd"
      },
      "execution_count": null,
      "outputs": [
        {
          "output_type": "execute_result",
          "data": {
            "text/plain": [
              "[<keras.src.layers.reshaping.flatten.Flatten at 0x7bc2b049b460>,\n",
              " <keras.src.layers.core.dense.Dense at 0x7bc2b0469240>,\n",
              " <keras.src.layers.core.dense.Dense at 0x7bc2b04692a0>,\n",
              " <keras.src.layers.core.dense.Dense at 0x7bc2b04696f0>]"
            ]
          },
          "metadata": {},
          "execution_count": 23
        }
      ]
    },
    {
      "cell_type": "code",
      "source": [
        "model_clf.summary()"
      ],
      "metadata": {
        "colab": {
          "base_uri": "https://localhost:8080/"
        },
        "id": "BYhpNQuZIi-M",
        "outputId": "f978839c-4b43-4945-f8f9-11ef1c122d96"
      },
      "execution_count": null,
      "outputs": [
        {
          "output_type": "stream",
          "name": "stdout",
          "text": [
            "Model: \"sequential\"\n",
            "_________________________________________________________________\n",
            " Layer (type)                Output Shape              Param #   \n",
            "=================================================================\n",
            " Inputlayer (Flatten)        (None, 784)               0         \n",
            "                                                                 \n",
            " hiddenlayer1 (Dense)        (None, 300)               235500    \n",
            "                                                                 \n",
            " hiddenlayer2 (Dense)        (None, 100)               30100     \n",
            "                                                                 \n",
            " outputlayer (Dense)         (None, 10)                1010      \n",
            "                                                                 \n",
            "=================================================================\n",
            "Total params: 266610 (1.02 MB)\n",
            "Trainable params: 266610 (1.02 MB)\n",
            "Non-trainable params: 0 (0.00 Byte)\n",
            "_________________________________________________________________\n"
          ]
        }
      ]
    },
    {
      "cell_type": "code",
      "source": [
        "hidden1=model_clf.layers[1]\n",
        "hidden1.name"
      ],
      "metadata": {
        "colab": {
          "base_uri": "https://localhost:8080/",
          "height": 36
        },
        "id": "VDN2Wbh1ImQt",
        "outputId": "3e3bc22f-b580-4d8b-c543-7d7190ac3325"
      },
      "execution_count": null,
      "outputs": [
        {
          "output_type": "execute_result",
          "data": {
            "text/plain": [
              "'hiddenlayer1'"
            ],
            "application/vnd.google.colaboratory.intrinsic+json": {
              "type": "string"
            }
          },
          "metadata": {},
          "execution_count": 25
        }
      ]
    },
    {
      "cell_type": "code",
      "source": [
        "\n",
        "len(hidden1.get_weights())"
      ],
      "metadata": {
        "colab": {
          "base_uri": "https://localhost:8080/"
        },
        "id": "twEGQKdmJLCV",
        "outputId": "cf2214be-f5b2-4e74-cd98-dbf394a13960"
      },
      "execution_count": null,
      "outputs": [
        {
          "output_type": "execute_result",
          "data": {
            "text/plain": [
              "2"
            ]
          },
          "metadata": {},
          "execution_count": 26
        }
      ]
    },
    {
      "cell_type": "code",
      "source": [
        "# get_weights give us2 arrays one is weights and Bias\n",
        "hidden1.get_weights()"
      ],
      "metadata": {
        "colab": {
          "base_uri": "https://localhost:8080/"
        },
        "id": "vlZSP4RAJQfm",
        "outputId": "65a1db9d-20b3-435d-85dd-c46f114d6bb1"
      },
      "execution_count": null,
      "outputs": [
        {
          "output_type": "execute_result",
          "data": {
            "text/plain": [
              "[array([[-0.04388349,  0.07221426,  0.04235012, ..., -0.02530558,\n",
              "          0.05104375, -0.00638634],\n",
              "        [ 0.01199592, -0.00097191, -0.04528841, ...,  0.04430845,\n",
              "         -0.03038462,  0.07154861],\n",
              "        [ 0.03143103, -0.0526093 ,  0.06449923, ..., -0.03170585,\n",
              "         -0.06606873,  0.05695435],\n",
              "        ...,\n",
              "        [-0.07202905,  0.05067721, -0.02643447, ...,  0.00958027,\n",
              "         -0.00245825, -0.03041341],\n",
              "        [ 0.0463671 , -0.00132972,  0.0346396 , ...,  0.04889198,\n",
              "         -0.02208462, -0.03100864],\n",
              "        [-0.07059951,  0.06631576, -0.02956822, ..., -0.00983895,\n",
              "         -0.04130545,  0.05942766]], dtype=float32),\n",
              " array([0., 0., 0., 0., 0., 0., 0., 0., 0., 0., 0., 0., 0., 0., 0., 0., 0.,\n",
              "        0., 0., 0., 0., 0., 0., 0., 0., 0., 0., 0., 0., 0., 0., 0., 0., 0.,\n",
              "        0., 0., 0., 0., 0., 0., 0., 0., 0., 0., 0., 0., 0., 0., 0., 0., 0.,\n",
              "        0., 0., 0., 0., 0., 0., 0., 0., 0., 0., 0., 0., 0., 0., 0., 0., 0.,\n",
              "        0., 0., 0., 0., 0., 0., 0., 0., 0., 0., 0., 0., 0., 0., 0., 0., 0.,\n",
              "        0., 0., 0., 0., 0., 0., 0., 0., 0., 0., 0., 0., 0., 0., 0., 0., 0.,\n",
              "        0., 0., 0., 0., 0., 0., 0., 0., 0., 0., 0., 0., 0., 0., 0., 0., 0.,\n",
              "        0., 0., 0., 0., 0., 0., 0., 0., 0., 0., 0., 0., 0., 0., 0., 0., 0.,\n",
              "        0., 0., 0., 0., 0., 0., 0., 0., 0., 0., 0., 0., 0., 0., 0., 0., 0.,\n",
              "        0., 0., 0., 0., 0., 0., 0., 0., 0., 0., 0., 0., 0., 0., 0., 0., 0.,\n",
              "        0., 0., 0., 0., 0., 0., 0., 0., 0., 0., 0., 0., 0., 0., 0., 0., 0.,\n",
              "        0., 0., 0., 0., 0., 0., 0., 0., 0., 0., 0., 0., 0., 0., 0., 0., 0.,\n",
              "        0., 0., 0., 0., 0., 0., 0., 0., 0., 0., 0., 0., 0., 0., 0., 0., 0.,\n",
              "        0., 0., 0., 0., 0., 0., 0., 0., 0., 0., 0., 0., 0., 0., 0., 0., 0.,\n",
              "        0., 0., 0., 0., 0., 0., 0., 0., 0., 0., 0., 0., 0., 0., 0., 0., 0.,\n",
              "        0., 0., 0., 0., 0., 0., 0., 0., 0., 0., 0., 0., 0., 0., 0., 0., 0.,\n",
              "        0., 0., 0., 0., 0., 0., 0., 0., 0., 0., 0., 0., 0., 0., 0., 0., 0.,\n",
              "        0., 0., 0., 0., 0., 0., 0., 0., 0., 0., 0.], dtype=float32)]"
            ]
          },
          "metadata": {},
          "execution_count": 27
        }
      ]
    },
    {
      "cell_type": "code",
      "source": [
        "#weights\n",
        "hidden1.get_weights()[0].shape"
      ],
      "metadata": {
        "colab": {
          "base_uri": "https://localhost:8080/"
        },
        "id": "1VUFMroCJY7E",
        "outputId": "ccaf48f3-69f6-4499-84b2-673194a132d3"
      },
      "execution_count": null,
      "outputs": [
        {
          "output_type": "execute_result",
          "data": {
            "text/plain": [
              "(784, 300)"
            ]
          },
          "metadata": {},
          "execution_count": 28
        }
      ]
    },
    {
      "cell_type": "code",
      "source": [
        "#Bias\n",
        "hidden1.get_weights()[1].shape"
      ],
      "metadata": {
        "colab": {
          "base_uri": "https://localhost:8080/"
        },
        "id": "Em9suWVgJyJ5",
        "outputId": "403c853e-de03-4893-d821-15bf59fa8dc0"
      },
      "execution_count": null,
      "outputs": [
        {
          "output_type": "execute_result",
          "data": {
            "text/plain": [
              "(300,)"
            ]
          },
          "metadata": {},
          "execution_count": 29
        }
      ]
    },
    {
      "cell_type": "code",
      "source": [
        "loss_fun='sparse_categorical_crossentropy' # use this >>> tf.losses.sparse_categorical_crossentropy\n",
        "OPTIMIZER='SGD'   # or use with the custom learning rate >>> tf.keras.optimizer.SGD(0.02)\n",
        "met=[\"accuracy\"]\n",
        "\n",
        "model_clf.compile(loss=loss_fun,\n",
        "                  optimizer=OPTIMIZER,\n",
        "                  metrics=met)"
      ],
      "metadata": {
        "id": "hMueDgRRJ9Ek"
      },
      "execution_count": null,
      "outputs": []
    },
    {
      "cell_type": "code",
      "source": [
        "# training\n",
        "\n",
        "EPOCHS=30\n",
        "Validation_set= (x_valid , y_valid)\n",
        "\n",
        "history = model_clf.fit(x_train, y_train, epochs=EPOCHS,\n",
        "                        validation_data=Validation_set, batch_size=32)"
      ],
      "metadata": {
        "colab": {
          "base_uri": "https://localhost:8080/"
        },
        "id": "4QyWl83lLH49",
        "outputId": "605c904c-ce68-4e02-edae-8744ad7cc0a4"
      },
      "execution_count": null,
      "outputs": [
        {
          "output_type": "stream",
          "name": "stdout",
          "text": [
            "Epoch 1/30\n",
            "1719/1719 [==============================] - 11s 4ms/step - loss: 0.0174 - accuracy: 0.0988 - val_loss: 5.7230e-04 - val_accuracy: 0.0958\n",
            "Epoch 2/30\n",
            "1719/1719 [==============================] - 6s 3ms/step - loss: 4.2463e-04 - accuracy: 0.0990 - val_loss: 2.6213e-04 - val_accuracy: 0.0958\n",
            "Epoch 3/30\n",
            "1719/1719 [==============================] - 7s 4ms/step - loss: 2.3563e-04 - accuracy: 0.0990 - val_loss: 1.6690e-04 - val_accuracy: 0.0958\n",
            "Epoch 4/30\n",
            "1719/1719 [==============================] - 6s 3ms/step - loss: 1.6231e-04 - accuracy: 0.0990 - val_loss: 1.2139e-04 - val_accuracy: 0.0958\n",
            "Epoch 5/30\n",
            "1719/1719 [==============================] - 6s 4ms/step - loss: 1.2333e-04 - accuracy: 0.0990 - val_loss: 9.4886e-05 - val_accuracy: 0.0958\n",
            "Epoch 6/30\n",
            "1719/1719 [==============================] - 6s 3ms/step - loss: 9.9199e-05 - accuracy: 0.0990 - val_loss: 7.7637e-05 - val_accuracy: 0.0958\n",
            "Epoch 7/30\n",
            "1719/1719 [==============================] - 7s 4ms/step - loss: 8.2821e-05 - accuracy: 0.0990 - val_loss: 6.5544e-05 - val_accuracy: 0.0958\n",
            "Epoch 8/30\n",
            "1719/1719 [==============================] - 6s 3ms/step - loss: 7.0996e-05 - accuracy: 0.0990 - val_loss: 5.6611e-05 - val_accuracy: 0.0958\n",
            "Epoch 9/30\n",
            "1719/1719 [==============================] - 6s 4ms/step - loss: 6.2063e-05 - accuracy: 0.0990 - val_loss: 4.9761e-05 - val_accuracy: 0.0958\n",
            "Epoch 10/30\n",
            "1719/1719 [==============================] - 6s 4ms/step - loss: 5.5088e-05 - accuracy: 0.0990 - val_loss: 4.4343e-05 - val_accuracy: 0.0958\n",
            "Epoch 11/30\n",
            "1719/1719 [==============================] - 11s 7ms/step - loss: 4.9493e-05 - accuracy: 0.0990 - val_loss: 3.9959e-05 - val_accuracy: 0.0958\n",
            "Epoch 12/30\n",
            "1719/1719 [==============================] - 8s 5ms/step - loss: 4.4908e-05 - accuracy: 0.0990 - val_loss: 3.6336e-05 - val_accuracy: 0.0958\n",
            "Epoch 13/30\n",
            "1719/1719 [==============================] - 10s 6ms/step - loss: 4.1084e-05 - accuracy: 0.0990 - val_loss: 3.3296e-05 - val_accuracy: 0.0958\n",
            "Epoch 14/30\n",
            "1719/1719 [==============================] - 9s 5ms/step - loss: 3.7845e-05 - accuracy: 0.0990 - val_loss: 3.0710e-05 - val_accuracy: 0.0958\n",
            "Epoch 15/30\n",
            "1719/1719 [==============================] - 10s 6ms/step - loss: 3.5071e-05 - accuracy: 0.0990 - val_loss: 2.8485e-05 - val_accuracy: 0.0958\n",
            "Epoch 16/30\n",
            "1719/1719 [==============================] - 10s 6ms/step - loss: 3.2668e-05 - accuracy: 0.0990 - val_loss: 2.6551e-05 - val_accuracy: 0.0958\n",
            "Epoch 17/30\n",
            "1719/1719 [==============================] - 10s 6ms/step - loss: 3.0566e-05 - accuracy: 0.0990 - val_loss: 2.4855e-05 - val_accuracy: 0.0958\n",
            "Epoch 18/30\n",
            "1719/1719 [==============================] - 10s 6ms/step - loss: 2.8713e-05 - accuracy: 0.0990 - val_loss: 2.3357e-05 - val_accuracy: 0.0958\n",
            "Epoch 19/30\n",
            "1719/1719 [==============================] - 8s 5ms/step - loss: 2.7067e-05 - accuracy: 0.0990 - val_loss: 2.2023e-05 - val_accuracy: 0.0958\n",
            "Epoch 20/30\n",
            "1719/1719 [==============================] - 10s 6ms/step - loss: 2.5596e-05 - accuracy: 0.0990 - val_loss: 2.0830e-05 - val_accuracy: 0.0958\n",
            "Epoch 21/30\n",
            "1719/1719 [==============================] - 9s 5ms/step - loss: 2.4274e-05 - accuracy: 0.0990 - val_loss: 1.9754e-05 - val_accuracy: 0.0958\n",
            "Epoch 22/30\n",
            "1719/1719 [==============================] - 7s 4ms/step - loss: 2.3079e-05 - accuracy: 0.0990 - val_loss: 1.8780e-05 - val_accuracy: 0.0958\n",
            "Epoch 23/30\n",
            "1719/1719 [==============================] - 10s 6ms/step - loss: 2.1993e-05 - accuracy: 0.0990 - val_loss: 1.7897e-05 - val_accuracy: 0.0958\n",
            "Epoch 24/30\n",
            "1719/1719 [==============================] - 10s 6ms/step - loss: 2.1003e-05 - accuracy: 0.0990 - val_loss: 1.7090e-05 - val_accuracy: 0.0958\n",
            "Epoch 25/30\n",
            "1719/1719 [==============================] - 8s 4ms/step - loss: 2.0097e-05 - accuracy: 0.0990 - val_loss: 1.6349e-05 - val_accuracy: 0.0958\n",
            "Epoch 26/30\n",
            "1719/1719 [==============================] - 9s 5ms/step - loss: 1.9264e-05 - accuracy: 0.0990 - val_loss: 1.5668e-05 - val_accuracy: 0.0958\n",
            "Epoch 27/30\n",
            "1719/1719 [==============================] - 9s 5ms/step - loss: 1.8497e-05 - accuracy: 0.0990 - val_loss: 1.5042e-05 - val_accuracy: 0.0958\n",
            "Epoch 28/30\n",
            "1719/1719 [==============================] - 10s 6ms/step - loss: 1.7786e-05 - accuracy: 0.0990 - val_loss: 1.4461e-05 - val_accuracy: 0.0958\n",
            "Epoch 29/30\n",
            "1719/1719 [==============================] - 11s 6ms/step - loss: 1.7128e-05 - accuracy: 0.0990 - val_loss: 1.3922e-05 - val_accuracy: 0.0958\n",
            "Epoch 30/30\n",
            "1719/1719 [==============================] - 7s 4ms/step - loss: 1.6515e-05 - accuracy: 0.0990 - val_loss: 1.3421e-05 - val_accuracy: 0.0958\n"
          ]
        }
      ]
    },
    {
      "cell_type": "code",
      "source": [
        "history.params"
      ],
      "metadata": {
        "colab": {
          "base_uri": "https://localhost:8080/"
        },
        "id": "YoMQILM4NRSv",
        "outputId": "ef4ca688-8437-403a-e44a-5d09266324d7"
      },
      "execution_count": null,
      "outputs": [
        {
          "output_type": "execute_result",
          "data": {
            "text/plain": [
              "{'verbose': 1, 'epochs': 30, 'steps': 1719}"
            ]
          },
          "metadata": {},
          "execution_count": 32
        }
      ]
    },
    {
      "cell_type": "code",
      "source": [
        "pd.DataFrame(history.history)"
      ],
      "metadata": {
        "colab": {
          "base_uri": "https://localhost:8080/",
          "height": 989
        },
        "id": "cYqs207tch7E",
        "outputId": "87b50cc2-0965-4871-ff60-0c63d40ba34a"
      },
      "execution_count": null,
      "outputs": [
        {
          "output_type": "execute_result",
          "data": {
            "text/plain": [
              "        loss  accuracy  val_loss  val_accuracy\n",
              "0   0.017392  0.098836  0.000572        0.0958\n",
              "1   0.000425  0.098982  0.000262        0.0958\n",
              "2   0.000236  0.098982  0.000167        0.0958\n",
              "3   0.000162  0.098982  0.000121        0.0958\n",
              "4   0.000123  0.098982  0.000095        0.0958\n",
              "5   0.000099  0.098982  0.000078        0.0958\n",
              "6   0.000083  0.098982  0.000066        0.0958\n",
              "7   0.000071  0.098982  0.000057        0.0958\n",
              "8   0.000062  0.098982  0.000050        0.0958\n",
              "9   0.000055  0.098982  0.000044        0.0958\n",
              "10  0.000049  0.098982  0.000040        0.0958\n",
              "11  0.000045  0.098982  0.000036        0.0958\n",
              "12  0.000041  0.098982  0.000033        0.0958\n",
              "13  0.000038  0.098982  0.000031        0.0958\n",
              "14  0.000035  0.098982  0.000028        0.0958\n",
              "15  0.000033  0.098982  0.000027        0.0958\n",
              "16  0.000031  0.098982  0.000025        0.0958\n",
              "17  0.000029  0.098982  0.000023        0.0958\n",
              "18  0.000027  0.098982  0.000022        0.0958\n",
              "19  0.000026  0.098982  0.000021        0.0958\n",
              "20  0.000024  0.098982  0.000020        0.0958\n",
              "21  0.000023  0.098982  0.000019        0.0958\n",
              "22  0.000022  0.098982  0.000018        0.0958\n",
              "23  0.000021  0.098982  0.000017        0.0958\n",
              "24  0.000020  0.098982  0.000016        0.0958\n",
              "25  0.000019  0.098982  0.000016        0.0958\n",
              "26  0.000018  0.098982  0.000015        0.0958\n",
              "27  0.000018  0.098982  0.000014        0.0958\n",
              "28  0.000017  0.098982  0.000014        0.0958\n",
              "29  0.000017  0.098982  0.000013        0.0958"
            ],
            "text/html": [
              "\n",
              "  <div id=\"df-fffe46b0-dcdf-42bb-ba00-6ad6c1a2a87a\" class=\"colab-df-container\">\n",
              "    <div>\n",
              "<style scoped>\n",
              "    .dataframe tbody tr th:only-of-type {\n",
              "        vertical-align: middle;\n",
              "    }\n",
              "\n",
              "    .dataframe tbody tr th {\n",
              "        vertical-align: top;\n",
              "    }\n",
              "\n",
              "    .dataframe thead th {\n",
              "        text-align: right;\n",
              "    }\n",
              "</style>\n",
              "<table border=\"1\" class=\"dataframe\">\n",
              "  <thead>\n",
              "    <tr style=\"text-align: right;\">\n",
              "      <th></th>\n",
              "      <th>loss</th>\n",
              "      <th>accuracy</th>\n",
              "      <th>val_loss</th>\n",
              "      <th>val_accuracy</th>\n",
              "    </tr>\n",
              "  </thead>\n",
              "  <tbody>\n",
              "    <tr>\n",
              "      <th>0</th>\n",
              "      <td>0.017392</td>\n",
              "      <td>0.098836</td>\n",
              "      <td>0.000572</td>\n",
              "      <td>0.0958</td>\n",
              "    </tr>\n",
              "    <tr>\n",
              "      <th>1</th>\n",
              "      <td>0.000425</td>\n",
              "      <td>0.098982</td>\n",
              "      <td>0.000262</td>\n",
              "      <td>0.0958</td>\n",
              "    </tr>\n",
              "    <tr>\n",
              "      <th>2</th>\n",
              "      <td>0.000236</td>\n",
              "      <td>0.098982</td>\n",
              "      <td>0.000167</td>\n",
              "      <td>0.0958</td>\n",
              "    </tr>\n",
              "    <tr>\n",
              "      <th>3</th>\n",
              "      <td>0.000162</td>\n",
              "      <td>0.098982</td>\n",
              "      <td>0.000121</td>\n",
              "      <td>0.0958</td>\n",
              "    </tr>\n",
              "    <tr>\n",
              "      <th>4</th>\n",
              "      <td>0.000123</td>\n",
              "      <td>0.098982</td>\n",
              "      <td>0.000095</td>\n",
              "      <td>0.0958</td>\n",
              "    </tr>\n",
              "    <tr>\n",
              "      <th>5</th>\n",
              "      <td>0.000099</td>\n",
              "      <td>0.098982</td>\n",
              "      <td>0.000078</td>\n",
              "      <td>0.0958</td>\n",
              "    </tr>\n",
              "    <tr>\n",
              "      <th>6</th>\n",
              "      <td>0.000083</td>\n",
              "      <td>0.098982</td>\n",
              "      <td>0.000066</td>\n",
              "      <td>0.0958</td>\n",
              "    </tr>\n",
              "    <tr>\n",
              "      <th>7</th>\n",
              "      <td>0.000071</td>\n",
              "      <td>0.098982</td>\n",
              "      <td>0.000057</td>\n",
              "      <td>0.0958</td>\n",
              "    </tr>\n",
              "    <tr>\n",
              "      <th>8</th>\n",
              "      <td>0.000062</td>\n",
              "      <td>0.098982</td>\n",
              "      <td>0.000050</td>\n",
              "      <td>0.0958</td>\n",
              "    </tr>\n",
              "    <tr>\n",
              "      <th>9</th>\n",
              "      <td>0.000055</td>\n",
              "      <td>0.098982</td>\n",
              "      <td>0.000044</td>\n",
              "      <td>0.0958</td>\n",
              "    </tr>\n",
              "    <tr>\n",
              "      <th>10</th>\n",
              "      <td>0.000049</td>\n",
              "      <td>0.098982</td>\n",
              "      <td>0.000040</td>\n",
              "      <td>0.0958</td>\n",
              "    </tr>\n",
              "    <tr>\n",
              "      <th>11</th>\n",
              "      <td>0.000045</td>\n",
              "      <td>0.098982</td>\n",
              "      <td>0.000036</td>\n",
              "      <td>0.0958</td>\n",
              "    </tr>\n",
              "    <tr>\n",
              "      <th>12</th>\n",
              "      <td>0.000041</td>\n",
              "      <td>0.098982</td>\n",
              "      <td>0.000033</td>\n",
              "      <td>0.0958</td>\n",
              "    </tr>\n",
              "    <tr>\n",
              "      <th>13</th>\n",
              "      <td>0.000038</td>\n",
              "      <td>0.098982</td>\n",
              "      <td>0.000031</td>\n",
              "      <td>0.0958</td>\n",
              "    </tr>\n",
              "    <tr>\n",
              "      <th>14</th>\n",
              "      <td>0.000035</td>\n",
              "      <td>0.098982</td>\n",
              "      <td>0.000028</td>\n",
              "      <td>0.0958</td>\n",
              "    </tr>\n",
              "    <tr>\n",
              "      <th>15</th>\n",
              "      <td>0.000033</td>\n",
              "      <td>0.098982</td>\n",
              "      <td>0.000027</td>\n",
              "      <td>0.0958</td>\n",
              "    </tr>\n",
              "    <tr>\n",
              "      <th>16</th>\n",
              "      <td>0.000031</td>\n",
              "      <td>0.098982</td>\n",
              "      <td>0.000025</td>\n",
              "      <td>0.0958</td>\n",
              "    </tr>\n",
              "    <tr>\n",
              "      <th>17</th>\n",
              "      <td>0.000029</td>\n",
              "      <td>0.098982</td>\n",
              "      <td>0.000023</td>\n",
              "      <td>0.0958</td>\n",
              "    </tr>\n",
              "    <tr>\n",
              "      <th>18</th>\n",
              "      <td>0.000027</td>\n",
              "      <td>0.098982</td>\n",
              "      <td>0.000022</td>\n",
              "      <td>0.0958</td>\n",
              "    </tr>\n",
              "    <tr>\n",
              "      <th>19</th>\n",
              "      <td>0.000026</td>\n",
              "      <td>0.098982</td>\n",
              "      <td>0.000021</td>\n",
              "      <td>0.0958</td>\n",
              "    </tr>\n",
              "    <tr>\n",
              "      <th>20</th>\n",
              "      <td>0.000024</td>\n",
              "      <td>0.098982</td>\n",
              "      <td>0.000020</td>\n",
              "      <td>0.0958</td>\n",
              "    </tr>\n",
              "    <tr>\n",
              "      <th>21</th>\n",
              "      <td>0.000023</td>\n",
              "      <td>0.098982</td>\n",
              "      <td>0.000019</td>\n",
              "      <td>0.0958</td>\n",
              "    </tr>\n",
              "    <tr>\n",
              "      <th>22</th>\n",
              "      <td>0.000022</td>\n",
              "      <td>0.098982</td>\n",
              "      <td>0.000018</td>\n",
              "      <td>0.0958</td>\n",
              "    </tr>\n",
              "    <tr>\n",
              "      <th>23</th>\n",
              "      <td>0.000021</td>\n",
              "      <td>0.098982</td>\n",
              "      <td>0.000017</td>\n",
              "      <td>0.0958</td>\n",
              "    </tr>\n",
              "    <tr>\n",
              "      <th>24</th>\n",
              "      <td>0.000020</td>\n",
              "      <td>0.098982</td>\n",
              "      <td>0.000016</td>\n",
              "      <td>0.0958</td>\n",
              "    </tr>\n",
              "    <tr>\n",
              "      <th>25</th>\n",
              "      <td>0.000019</td>\n",
              "      <td>0.098982</td>\n",
              "      <td>0.000016</td>\n",
              "      <td>0.0958</td>\n",
              "    </tr>\n",
              "    <tr>\n",
              "      <th>26</th>\n",
              "      <td>0.000018</td>\n",
              "      <td>0.098982</td>\n",
              "      <td>0.000015</td>\n",
              "      <td>0.0958</td>\n",
              "    </tr>\n",
              "    <tr>\n",
              "      <th>27</th>\n",
              "      <td>0.000018</td>\n",
              "      <td>0.098982</td>\n",
              "      <td>0.000014</td>\n",
              "      <td>0.0958</td>\n",
              "    </tr>\n",
              "    <tr>\n",
              "      <th>28</th>\n",
              "      <td>0.000017</td>\n",
              "      <td>0.098982</td>\n",
              "      <td>0.000014</td>\n",
              "      <td>0.0958</td>\n",
              "    </tr>\n",
              "    <tr>\n",
              "      <th>29</th>\n",
              "      <td>0.000017</td>\n",
              "      <td>0.098982</td>\n",
              "      <td>0.000013</td>\n",
              "      <td>0.0958</td>\n",
              "    </tr>\n",
              "  </tbody>\n",
              "</table>\n",
              "</div>\n",
              "    <div class=\"colab-df-buttons\">\n",
              "\n",
              "  <div class=\"colab-df-container\">\n",
              "    <button class=\"colab-df-convert\" onclick=\"convertToInteractive('df-fffe46b0-dcdf-42bb-ba00-6ad6c1a2a87a')\"\n",
              "            title=\"Convert this dataframe to an interactive table.\"\n",
              "            style=\"display:none;\">\n",
              "\n",
              "  <svg xmlns=\"http://www.w3.org/2000/svg\" height=\"24px\" viewBox=\"0 -960 960 960\">\n",
              "    <path d=\"M120-120v-720h720v720H120Zm60-500h600v-160H180v160Zm220 220h160v-160H400v160Zm0 220h160v-160H400v160ZM180-400h160v-160H180v160Zm440 0h160v-160H620v160ZM180-180h160v-160H180v160Zm440 0h160v-160H620v160Z\"/>\n",
              "  </svg>\n",
              "    </button>\n",
              "\n",
              "  <style>\n",
              "    .colab-df-container {\n",
              "      display:flex;\n",
              "      gap: 12px;\n",
              "    }\n",
              "\n",
              "    .colab-df-convert {\n",
              "      background-color: #E8F0FE;\n",
              "      border: none;\n",
              "      border-radius: 50%;\n",
              "      cursor: pointer;\n",
              "      display: none;\n",
              "      fill: #1967D2;\n",
              "      height: 32px;\n",
              "      padding: 0 0 0 0;\n",
              "      width: 32px;\n",
              "    }\n",
              "\n",
              "    .colab-df-convert:hover {\n",
              "      background-color: #E2EBFA;\n",
              "      box-shadow: 0px 1px 2px rgba(60, 64, 67, 0.3), 0px 1px 3px 1px rgba(60, 64, 67, 0.15);\n",
              "      fill: #174EA6;\n",
              "    }\n",
              "\n",
              "    .colab-df-buttons div {\n",
              "      margin-bottom: 4px;\n",
              "    }\n",
              "\n",
              "    [theme=dark] .colab-df-convert {\n",
              "      background-color: #3B4455;\n",
              "      fill: #D2E3FC;\n",
              "    }\n",
              "\n",
              "    [theme=dark] .colab-df-convert:hover {\n",
              "      background-color: #434B5C;\n",
              "      box-shadow: 0px 1px 3px 1px rgba(0, 0, 0, 0.15);\n",
              "      filter: drop-shadow(0px 1px 2px rgba(0, 0, 0, 0.3));\n",
              "      fill: #FFFFFF;\n",
              "    }\n",
              "  </style>\n",
              "\n",
              "    <script>\n",
              "      const buttonEl =\n",
              "        document.querySelector('#df-fffe46b0-dcdf-42bb-ba00-6ad6c1a2a87a button.colab-df-convert');\n",
              "      buttonEl.style.display =\n",
              "        google.colab.kernel.accessAllowed ? 'block' : 'none';\n",
              "\n",
              "      async function convertToInteractive(key) {\n",
              "        const element = document.querySelector('#df-fffe46b0-dcdf-42bb-ba00-6ad6c1a2a87a');\n",
              "        const dataTable =\n",
              "          await google.colab.kernel.invokeFunction('convertToInteractive',\n",
              "                                                    [key], {});\n",
              "        if (!dataTable) return;\n",
              "\n",
              "        const docLinkHtml = 'Like what you see? Visit the ' +\n",
              "          '<a target=\"_blank\" href=https://colab.research.google.com/notebooks/data_table.ipynb>data table notebook</a>'\n",
              "          + ' to learn more about interactive tables.';\n",
              "        element.innerHTML = '';\n",
              "        dataTable['output_type'] = 'display_data';\n",
              "        await google.colab.output.renderOutput(dataTable, element);\n",
              "        const docLink = document.createElement('div');\n",
              "        docLink.innerHTML = docLinkHtml;\n",
              "        element.appendChild(docLink);\n",
              "      }\n",
              "    </script>\n",
              "  </div>\n",
              "\n",
              "\n",
              "<div id=\"df-f7d21131-c459-42c8-98bb-89798bd9e6b2\">\n",
              "  <button class=\"colab-df-quickchart\" onclick=\"quickchart('df-f7d21131-c459-42c8-98bb-89798bd9e6b2')\"\n",
              "            title=\"Suggest charts\"\n",
              "            style=\"display:none;\">\n",
              "\n",
              "<svg xmlns=\"http://www.w3.org/2000/svg\" height=\"24px\"viewBox=\"0 0 24 24\"\n",
              "     width=\"24px\">\n",
              "    <g>\n",
              "        <path d=\"M19 3H5c-1.1 0-2 .9-2 2v14c0 1.1.9 2 2 2h14c1.1 0 2-.9 2-2V5c0-1.1-.9-2-2-2zM9 17H7v-7h2v7zm4 0h-2V7h2v10zm4 0h-2v-4h2v4z\"/>\n",
              "    </g>\n",
              "</svg>\n",
              "  </button>\n",
              "\n",
              "<style>\n",
              "  .colab-df-quickchart {\n",
              "      --bg-color: #E8F0FE;\n",
              "      --fill-color: #1967D2;\n",
              "      --hover-bg-color: #E2EBFA;\n",
              "      --hover-fill-color: #174EA6;\n",
              "      --disabled-fill-color: #AAA;\n",
              "      --disabled-bg-color: #DDD;\n",
              "  }\n",
              "\n",
              "  [theme=dark] .colab-df-quickchart {\n",
              "      --bg-color: #3B4455;\n",
              "      --fill-color: #D2E3FC;\n",
              "      --hover-bg-color: #434B5C;\n",
              "      --hover-fill-color: #FFFFFF;\n",
              "      --disabled-bg-color: #3B4455;\n",
              "      --disabled-fill-color: #666;\n",
              "  }\n",
              "\n",
              "  .colab-df-quickchart {\n",
              "    background-color: var(--bg-color);\n",
              "    border: none;\n",
              "    border-radius: 50%;\n",
              "    cursor: pointer;\n",
              "    display: none;\n",
              "    fill: var(--fill-color);\n",
              "    height: 32px;\n",
              "    padding: 0;\n",
              "    width: 32px;\n",
              "  }\n",
              "\n",
              "  .colab-df-quickchart:hover {\n",
              "    background-color: var(--hover-bg-color);\n",
              "    box-shadow: 0 1px 2px rgba(60, 64, 67, 0.3), 0 1px 3px 1px rgba(60, 64, 67, 0.15);\n",
              "    fill: var(--button-hover-fill-color);\n",
              "  }\n",
              "\n",
              "  .colab-df-quickchart-complete:disabled,\n",
              "  .colab-df-quickchart-complete:disabled:hover {\n",
              "    background-color: var(--disabled-bg-color);\n",
              "    fill: var(--disabled-fill-color);\n",
              "    box-shadow: none;\n",
              "  }\n",
              "\n",
              "  .colab-df-spinner {\n",
              "    border: 2px solid var(--fill-color);\n",
              "    border-color: transparent;\n",
              "    border-bottom-color: var(--fill-color);\n",
              "    animation:\n",
              "      spin 1s steps(1) infinite;\n",
              "  }\n",
              "\n",
              "  @keyframes spin {\n",
              "    0% {\n",
              "      border-color: transparent;\n",
              "      border-bottom-color: var(--fill-color);\n",
              "      border-left-color: var(--fill-color);\n",
              "    }\n",
              "    20% {\n",
              "      border-color: transparent;\n",
              "      border-left-color: var(--fill-color);\n",
              "      border-top-color: var(--fill-color);\n",
              "    }\n",
              "    30% {\n",
              "      border-color: transparent;\n",
              "      border-left-color: var(--fill-color);\n",
              "      border-top-color: var(--fill-color);\n",
              "      border-right-color: var(--fill-color);\n",
              "    }\n",
              "    40% {\n",
              "      border-color: transparent;\n",
              "      border-right-color: var(--fill-color);\n",
              "      border-top-color: var(--fill-color);\n",
              "    }\n",
              "    60% {\n",
              "      border-color: transparent;\n",
              "      border-right-color: var(--fill-color);\n",
              "    }\n",
              "    80% {\n",
              "      border-color: transparent;\n",
              "      border-right-color: var(--fill-color);\n",
              "      border-bottom-color: var(--fill-color);\n",
              "    }\n",
              "    90% {\n",
              "      border-color: transparent;\n",
              "      border-bottom-color: var(--fill-color);\n",
              "    }\n",
              "  }\n",
              "</style>\n",
              "\n",
              "  <script>\n",
              "    async function quickchart(key) {\n",
              "      const quickchartButtonEl =\n",
              "        document.querySelector('#' + key + ' button');\n",
              "      quickchartButtonEl.disabled = true;  // To prevent multiple clicks.\n",
              "      quickchartButtonEl.classList.add('colab-df-spinner');\n",
              "      try {\n",
              "        const charts = await google.colab.kernel.invokeFunction(\n",
              "            'suggestCharts', [key], {});\n",
              "      } catch (error) {\n",
              "        console.error('Error during call to suggestCharts:', error);\n",
              "      }\n",
              "      quickchartButtonEl.classList.remove('colab-df-spinner');\n",
              "      quickchartButtonEl.classList.add('colab-df-quickchart-complete');\n",
              "    }\n",
              "    (() => {\n",
              "      let quickchartButtonEl =\n",
              "        document.querySelector('#df-f7d21131-c459-42c8-98bb-89798bd9e6b2 button');\n",
              "      quickchartButtonEl.style.display =\n",
              "        google.colab.kernel.accessAllowed ? 'block' : 'none';\n",
              "    })();\n",
              "  </script>\n",
              "</div>\n",
              "\n",
              "    </div>\n",
              "  </div>\n"
            ]
          },
          "metadata": {},
          "execution_count": 33
        }
      ]
    },
    {
      "cell_type": "code",
      "source": [
        "pd.DataFrame(history.history).plot()"
      ],
      "metadata": {
        "colab": {
          "base_uri": "https://localhost:8080/",
          "height": 448
        },
        "id": "sGkbITFTcsTx",
        "outputId": "9b4ae6b2-dc9b-4266-fbd8-eeec95c5153a"
      },
      "execution_count": null,
      "outputs": [
        {
          "output_type": "execute_result",
          "data": {
            "text/plain": [
              "<Axes: >"
            ]
          },
          "metadata": {},
          "execution_count": 34
        },
        {
          "output_type": "display_data",
          "data": {
            "text/plain": [
              "<Figure size 640x480 with 1 Axes>"
            ],
            "image/png": "[encoded data removed]"
          },
          "metadata": {}
        }
      ]
    },
    {
      "cell_type": "code",
      "source": [
        "model_clf.evaluate(x_test,y_test)"
      ],
      "metadata": {
        "colab": {
          "base_uri": "https://localhost:8080/"
        },
        "id": "-J3am87mcxtd",
        "outputId": "a562fd18-f26b-46f9-8467-75ff7a47f8f8"
      },
      "execution_count": null,
      "outputs": [
        {
          "output_type": "stream",
          "name": "stdout",
          "text": [
            "313/313 [==============================] - 1s 2ms/step - loss: 18.3065 - accuracy: 0.0980\n"
          ]
        },
        {
          "output_type": "execute_result",
          "data": {
            "text/plain": [
              "[18.306522369384766, 0.09799999743700027]"
            ]
          },
          "metadata": {},
          "execution_count": 35
        }
      ]
    },
    {
      "cell_type": "markdown",
      "source": [
        "Sample check-Test data\n"
      ],
      "metadata": {
        "id": "p9wgSsNRe2XP"
      }
    },
    {
      "cell_type": "code",
      "source": [
        "x_new = x_test[:3]\n",
        "#x_new"
      ],
      "metadata": {
        "id": "MrfvZRgcezCW"
      },
      "execution_count": null,
      "outputs": []
    },
    {
      "cell_type": "code",
      "source": [
        "plt.figure(figsize=(8,8))\n",
        "sns.heatmap(x_new[0],cmap='binary')"
      ],
      "metadata": {
        "colab": {
          "base_uri": "https://localhost:8080/",
          "height": 703
        },
        "id": "vNRhRHyYf6jE",
        "outputId": "ea0e7c6b-718f-410b-ee59-997483833923"
      },
      "execution_count": null,
      "outputs": [
        {
          "output_type": "execute_result",
          "data": {
            "text/plain": [
              "<Axes: >"
            ]
          },
          "metadata": {},
          "execution_count": 37
        },
        {
          "output_type": "display_data",
          "data": {
            "text/plain": [
              "<Figure size 800x800 with 2 Axes>"
            ],
            "image/png": "[encoded data removed]"
          },
          "metadata": {}
        }
      ]
    },
    {
      "cell_type": "code",
      "source": [
        "actual= y_test[:3]\n",
        "actual"
      ],
      "metadata": {
        "colab": {
          "base_uri": "https://localhost:8080/"
        },
        "id": "x7gfwQSsfIXL",
        "outputId": "ea3923b2-f9be-4379-bc8a-0d621d9367f8"
      },
      "execution_count": null,
      "outputs": [
        {
          "output_type": "execute_result",
          "data": {
            "text/plain": [
              "array([7, 2, 1], dtype=uint8)"
            ]
          },
          "metadata": {},
          "execution_count": 38
        }
      ]
    },
    {
      "cell_type": "code",
      "source": [
        "y_prod=model_clf.predict(x_new)\n",
        "y_prod.round()"
      ],
      "metadata": {
        "colab": {
          "base_uri": "https://localhost:8080/"
        },
        "id": "BUDxH5r6fQwv",
        "outputId": "191de982-3db3-4afd-f109-08a056523c26"
      },
      "execution_count": null,
      "outputs": [
        {
          "output_type": "stream",
          "name": "stdout",
          "text": [
            "1/1 [==============================] - 0s 17ms/step\n"
          ]
        },
        {
          "output_type": "execute_result",
          "data": {
            "text/plain": [
              "array([[1., 0., 0., 0., 0., 0., 0., 0., 0., 0.],\n",
              "       [1., 0., 0., 0., 0., 0., 0., 0., 0., 0.],\n",
              "       [1., 0., 0., 0., 0., 0., 0., 0., 0., 0.]], dtype=float32)"
            ]
          },
          "metadata": {},
          "execution_count": 41
        }
      ]
    },
    {
      "cell_type": "code",
      "source": [
        "y_pred=np.argmax(y_prod,axis=1)\n",
        "y_pred"
      ],
      "metadata": {
        "colab": {
          "base_uri": "https://localhost:8080/"
        },
        "id": "WcKy6IhtfjDs",
        "outputId": "d0480ff8-2ecf-4f7a-fdf9-a5749cdced63"
      },
      "execution_count": null,
      "outputs": [
        {
          "output_type": "execute_result",
          "data": {
            "text/plain": [
              "array([0, 0, 0])"
            ]
          },
          "metadata": {},
          "execution_count": 42
        }
      ]
    },
    {
      "cell_type": "code",
      "source": [
        "actual"
      ],
      "metadata": {
        "colab": {
          "base_uri": "https://localhost:8080/"
        },
        "id": "hQ9ZEbv05S1J",
        "outputId": "a8350d07-9c96-4d84-c6b9-524e293f11f2"
      },
      "execution_count": null,
      "outputs": [
        {
          "output_type": "execute_result",
          "data": {
            "text/plain": [
              "array([7, 2, 1], dtype=uint8)"
            ]
          },
          "metadata": {},
          "execution_count": 43
        }
      ]
    },
    {
      "cell_type": "code",
      "source": [
        "# plot\n",
        "for data, pred, actual_data in zip(x_new, y_pred, actual):\n",
        "  plt.imshow(data,cmap='binary')\n",
        "  plt.title(f\"Prediaction {pred} actcaul data{actual_data}\")\n",
        "  plt.axis(\"off\")\n",
        "  plt.show()"
      ],
      "metadata": {
        "colab": {
          "base_uri": "https://localhost:8080/",
          "height": 1000
        },
        "id": "34MnbIP95lBB",
        "outputId": "e74973cc-4f3d-474b-ee71-b23ee07ea6ca"
      },
      "execution_count": null,
      "outputs": [
        {
          "output_type": "display_data",
          "data": {
            "text/plain": [
              "<Figure size 640x480 with 1 Axes>"
            ],
            "image/png": "[encoded data removed]"
          },
          "metadata": {}
        },
        {
          "output_type": "display_data",
          "data": {
            "text/plain": [
              "<Figure size 640x480 with 1 Axes>"
            ],
            "image/png": "[encoded data removed]"
          },
          "metadata": {}
        },
        {
          "output_type": "display_data",
          "data": {
            "text/plain": [
              "<Figure size 640x480 with 1 Axes>"
            ],
            "image/png": "[encoded data removed]"
          },
          "metadata": {}
        }
      ]
    },
    {
      "cell_type": "code",
      "source": [],
      "metadata": {
        "id": "wGGRt80s6ZlA"
      },
      "execution_count": null,
      "outputs": []
    }
  ]
}