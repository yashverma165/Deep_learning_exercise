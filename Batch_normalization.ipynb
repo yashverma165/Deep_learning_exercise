{
  "nbformat": 4,
  "nbformat_minor": 0,
  "metadata": {
    "colab": {
      "provenance": [],
      "authorship_tag": "ABX9TyNEiIjqkn8PneW99LWcyLpC",
      "include_colab_link": true
    },
    "kernelspec": {
      "name": "python3",
      "display_name": "Python 3"
    },
    "language_info": {
      "name": "python"
    }
  },
  "cells": [
    {
      "cell_type": "markdown",
      "metadata": {
        "id": "view-in-github",
        "colab_type": "text"
      },
      "source": [
        "<a href=\"https://colab.research.google.com/github/yashverma165/Deep_learning_exercise/blob/main/Batch_normalization.ipynb\" target=\"_parent\"><img src=\"https://colab.research.google.com/assets/colab-badge.svg\" alt=\"Open In Colab\"/></a>"
      ]
    },
    {
      "cell_type": "markdown",
      "source": [
        "#Batch Normalization"
      ],
      "metadata": {
        "id": "Q-yNvqOyW5rM"
      }
    },
    {
      "cell_type": "code",
      "execution_count": 22,
      "metadata": {
        "colab": {
          "base_uri": "https://localhost:8080/"
        },
        "id": "m9joQtZQWSuh",
        "outputId": "c61b235b-f9e8-4d03-e7e9-7d5d073113d8"
      },
      "outputs": [
        {
          "output_type": "stream",
          "name": "stdout",
          "text": [
            "The tensorboard extension is already loaded. To reload it, use:\n",
            "  %reload_ext tensorboard\n"
          ]
        }
      ],
      "source": [
        "# importing libraries\n",
        "import pandas as pd\n",
        "import seaborn as sns\n",
        "import numpy as np\n",
        "import matplotlib.pyplot as plt\n",
        "import tensorflow as tf\n",
        "import os\n",
        "import time\n",
        "%load_ext tensorboard"
      ]
    },
    {
      "cell_type": "code",
      "source": [
        "# Loading data\n",
        "(x_train_full,y_train_full), (x_test, y_test) =tf.keras.datasets.fashion_mnist.load_data()\n",
        "x_train_full = x_train_full / 255.0\n",
        "x_test = x_test / 255.0\n",
        "x_valid, x_train = x_train_full[:5000], x_train_full[5000:]\n",
        "y_valid, y_train = y_train_full[:5000], y_train_full[5000:]"
      ],
      "metadata": {
        "id": "ImdpcKnmXddw"
      },
      "execution_count": 37,
      "outputs": []
    },
    {
      "cell_type": "code",
      "source": [
        "# crating layer of model\n",
        "\n",
        "tf.random.set_seed(42) # for getting simillar output(optional)\n",
        "np.random.seed(42)      # for getting simillar output(optional) \\\n",
        "\n",
        "LAYERS = [ tf.keras.layers.Flatten(input_shape=(28,28)),\n",
        "           tf.keras.layers.Dense(300, kernel_initializer= 'he_normal'),\n",
        "           tf.keras.layers.LeakyReLU(),\n",
        "           tf.keras.layers.Dense(100, kernel_initializer='he_normal'),\n",
        "           tf.keras.layers.LeakyReLU(),\n",
        "           tf.keras.layers.Dense(10, activation='softmax')\n",
        "         ]\n",
        "\n",
        "model=tf.keras.models.Sequential(LAYERS)"
      ],
      "metadata": {
        "id": "5Kz1A4uWYHuB"
      },
      "execution_count": 31,
      "outputs": []
    },
    {
      "cell_type": "code",
      "source": [
        "# compile the model\n",
        "model.compile(loss='sparse_categorical_crossentropy',\n",
        "              optimizer=tf.keras.optimizers.SGD(lr=1e-3),\n",
        "              metrics=['accuracy'])"
      ],
      "metadata": {
        "colab": {
          "base_uri": "https://localhost:8080/"
        },
        "id": "FaPI79FCcMNK",
        "outputId": "16cc6bcd-233d-4d5a-f143-f33709ef1b1f"
      },
      "execution_count": 33,
      "outputs": [
        {
          "output_type": "stream",
          "name": "stderr",
          "text": [
            "WARNING:absl:`lr` is deprecated in Keras optimizer, please use `learning_rate` or use the legacy optimizer, e.g.,tf.keras.optimizers.legacy.SGD.\n"
          ]
        }
      ]
    },
    {
      "cell_type": "code",
      "source": [
        "model.summary()"
      ],
      "metadata": {
        "colab": {
          "base_uri": "https://localhost:8080/"
        },
        "id": "CbeOpdvEfzKK",
        "outputId": "f608e240-ba4b-4443-bf84-8f1c7b2e49aa"
      },
      "execution_count": 35,
      "outputs": [
        {
          "output_type": "stream",
          "name": "stdout",
          "text": [
            "Model: \"sequential_1\"\n",
            "_________________________________________________________________\n",
            " Layer (type)                Output Shape              Param #   \n",
            "=================================================================\n",
            " flatten_3 (Flatten)         (None, 784)               0         \n",
            "                                                                 \n",
            " dense_5 (Dense)             (None, 300)               235500    \n",
            "                                                                 \n",
            " leaky_re_lu_4 (LeakyReLU)   (None, 300)               0         \n",
            "                                                                 \n",
            " dense_6 (Dense)             (None, 100)               30100     \n",
            "                                                                 \n",
            " leaky_re_lu_5 (LeakyReLU)   (None, 100)               0         \n",
            "                                                                 \n",
            " dense_7 (Dense)             (None, 10)                1010      \n",
            "                                                                 \n",
            "=================================================================\n",
            "Total params: 266610 (1.02 MB)\n",
            "Trainable params: 266610 (1.02 MB)\n",
            "Non-trainable params: 0 (0.00 Byte)\n",
            "_________________________________________________________________\n"
          ]
        }
      ]
    },
    {
      "cell_type": "code",
      "source": [
        "#NOW TRAINING AND calculation training time\n",
        "\n",
        "# start time\n",
        "start = time.time()\n",
        "\n",
        "history= model.fit(x_train,y_train,epochs=10, validation_data=(x_valid,y_valid),verbose=2)\n",
        "\n",
        "#end time\n",
        "end= time.time()\n",
        "\n",
        "# total time\n",
        "print(f\"runtime of program is:- {end -start } \")"
      ],
      "metadata": {
        "colab": {
          "base_uri": "https://localhost:8080/"
        },
        "id": "D4SYEh3Gf_HJ",
        "outputId": "43751a90-8906-4176-c1f1-c5324dcf1ada"
      },
      "execution_count": 39,
      "outputs": [
        {
          "output_type": "stream",
          "name": "stdout",
          "text": [
            "Epoch 1/10\n",
            "1719/1719 - 7s - loss: 0.3410 - accuracy: 0.8786 - val_loss: 0.3476 - val_accuracy: 0.8772 - 7s/epoch - 4ms/step\n",
            "Epoch 2/10\n",
            "1719/1719 - 5s - loss: 0.3341 - accuracy: 0.8794 - val_loss: 0.3462 - val_accuracy: 0.8802 - 5s/epoch - 3ms/step\n",
            "Epoch 3/10\n",
            "1719/1719 - 7s - loss: 0.3270 - accuracy: 0.8832 - val_loss: 0.4288 - val_accuracy: 0.8398 - 7s/epoch - 4ms/step\n",
            "Epoch 4/10\n",
            "1719/1719 - 6s - loss: 0.3215 - accuracy: 0.8857 - val_loss: 0.3391 - val_accuracy: 0.8798 - 6s/epoch - 4ms/step\n",
            "Epoch 5/10\n",
            "1719/1719 - 7s - loss: 0.3174 - accuracy: 0.8863 - val_loss: 0.3348 - val_accuracy: 0.8824 - 7s/epoch - 4ms/step\n",
            "Epoch 6/10\n",
            "1719/1719 - 5s - loss: 0.3093 - accuracy: 0.8891 - val_loss: 0.3348 - val_accuracy: 0.8836 - 5s/epoch - 3ms/step\n",
            "Epoch 7/10\n",
            "1719/1719 - 6s - loss: 0.3051 - accuracy: 0.8903 - val_loss: 0.3291 - val_accuracy: 0.8830 - 6s/epoch - 3ms/step\n",
            "Epoch 8/10\n",
            "1719/1719 - 7s - loss: 0.3006 - accuracy: 0.8919 - val_loss: 0.3497 - val_accuracy: 0.8780 - 7s/epoch - 4ms/step\n",
            "Epoch 9/10\n",
            "1719/1719 - 5s - loss: 0.2956 - accuracy: 0.8935 - val_loss: 0.3327 - val_accuracy: 0.8796 - 5s/epoch - 3ms/step\n",
            "Epoch 10/10\n",
            "1719/1719 - 6s - loss: 0.2918 - accuracy: 0.8948 - val_loss: 0.3258 - val_accuracy: 0.8834 - 6s/epoch - 4ms/step\n",
            "runtime of program is:- 60.94535779953003 \n"
          ]
        }
      ]
    },
    {
      "cell_type": "markdown",
      "source": [
        "### Conclusion\n",
        "*  runtime - 60.94\n",
        "*  accuracy- 0.8948"
      ],
      "metadata": {
        "id": "Qy-QhBMgjKkq"
      }
    },
    {
      "cell_type": "markdown",
      "source": [
        "# After Appling Batch Normalization"
      ],
      "metadata": {
        "id": "kf9hphLRhy5i"
      }
    },
    {
      "cell_type": "code",
      "source": [
        "# del previous model\n",
        "del model\n"
      ],
      "metadata": {
        "id": "Xcsq6YQXg1oR"
      },
      "execution_count": 58,
      "outputs": []
    },
    {
      "cell_type": "code",
      "source": [
        "# define new layer with batch normalization\n",
        "\n",
        "layers_bt=[tf.keras.layers.Flatten(input_shape=(28,28)),\n",
        "           tf.keras.layers.BatchNormalization(),\n",
        "           tf.keras.layers.Dense(300, activation='relu'),\n",
        "           tf.keras.layers.BatchNormalization(),\n",
        "           tf.keras.layers.Dense(100, activation='relu'),\n",
        "           tf.keras.layers.BatchNormalization(),\n",
        "           tf.keras.layers.Dense(10, activation='softmax')\n",
        "          ]\n",
        "\n",
        "\n",
        "model_bt= tf.keras.models.Sequential(layers_bt)"
      ],
      "metadata": {
        "id": "OArWOTPOh8bL"
      },
      "execution_count": 59,
      "outputs": []
    },
    {
      "cell_type": "code",
      "source": [
        "model_bt.summary()"
      ],
      "metadata": {
        "colab": {
          "base_uri": "https://localhost:8080/"
        },
        "id": "uyAmrtM3iz7U",
        "outputId": "651b7b89-511f-4869-816b-fa62f3804e9c"
      },
      "execution_count": 60,
      "outputs": [
        {
          "output_type": "stream",
          "name": "stdout",
          "text": [
            "Model: \"sequential_5\"\n",
            "_________________________________________________________________\n",
            " Layer (type)                Output Shape              Param #   \n",
            "=================================================================\n",
            " flatten_9 (Flatten)         (None, 784)               0         \n",
            "                                                                 \n",
            " batch_normalization_13 (Ba  (None, 784)               3136      \n",
            " tchNormalization)                                               \n",
            "                                                                 \n",
            " dense_19 (Dense)            (None, 300)               235500    \n",
            "                                                                 \n",
            " batch_normalization_14 (Ba  (None, 300)               1200      \n",
            " tchNormalization)                                               \n",
            "                                                                 \n",
            " dense_20 (Dense)            (None, 100)               30100     \n",
            "                                                                 \n",
            " batch_normalization_15 (Ba  (None, 100)               400       \n",
            " tchNormalization)                                               \n",
            "                                                                 \n",
            " dense_21 (Dense)            (None, 10)                1010      \n",
            "                                                                 \n",
            "=================================================================\n",
            "Total params: 271346 (1.04 MB)\n",
            "Trainable params: 268978 (1.03 MB)\n",
            "Non-trainable params: 2368 (9.25 KB)\n",
            "_________________________________________________________________\n"
          ]
        }
      ]
    },
    {
      "cell_type": "code",
      "source": [
        "bnl=model_bt.layers[1]\n",
        "bnl"
      ],
      "metadata": {
        "colab": {
          "base_uri": "https://localhost:8080/"
        },
        "id": "6o_0VM6njzWK",
        "outputId": "c2c4ba8c-cc5a-4763-e413-d598b55a087d"
      },
      "execution_count": 61,
      "outputs": [
        {
          "output_type": "execute_result",
          "data": {
            "text/plain": [
              "<keras.src.layers.normalization.batch_normalization.BatchNormalization at 0x7cb8c2f882e0>"
            ]
          },
          "metadata": {},
          "execution_count": 61
        }
      ]
    },
    {
      "cell_type": "code",
      "source": [
        "for variable in bnl.variables:\n",
        "  print(variable.name,variable.trainable)"
      ],
      "metadata": {
        "colab": {
          "base_uri": "https://localhost:8080/"
        },
        "id": "Cl2db9HCkLLL",
        "outputId": "f41be66e-447d-4251-93df-3948d47bce81"
      },
      "execution_count": 62,
      "outputs": [
        {
          "output_type": "stream",
          "name": "stdout",
          "text": [
            "batch_normalization_13/gamma:0 True\n",
            "batch_normalization_13/beta:0 True\n",
            "batch_normalization_13/moving_mean:0 False\n",
            "batch_normalization_13/moving_variance:0 False\n"
          ]
        }
      ]
    },
    {
      "cell_type": "code",
      "source": [
        "model_bt.compile(loss='sparse_categorical_crossentropy',\n",
        "                 metrics=['accuracy'],\n",
        "                 optimizer=tf.keras.optimizers.SGD(lr=1e-3))"
      ],
      "metadata": {
        "colab": {
          "base_uri": "https://localhost:8080/"
        },
        "id": "5oRDWdBZkarK",
        "outputId": "58fa65c5-1568-4ec3-83ce-a66c1eac32a7"
      },
      "execution_count": 67,
      "outputs": [
        {
          "output_type": "stream",
          "name": "stderr",
          "text": [
            "WARNING:absl:`lr` is deprecated in Keras optimizer, please use `learning_rate` or use the legacy optimizer, e.g.,tf.keras.optimizers.legacy.SGD.\n"
          ]
        }
      ]
    },
    {
      "cell_type": "code",
      "source": [
        "#NOW TRAINING AND calculation training time\n",
        "\n",
        "# start time\n",
        "start = time.time()\n",
        "\n",
        "history= model_bt.fit(x_train,y_train,epochs=10, validation_data=(x_valid,y_valid),verbose=2)\n",
        "\n",
        "#end time\n",
        "end= time.time()\n",
        "\n",
        "# total time\n",
        "print(f\"runtime of program is:- {end -start } \")"
      ],
      "metadata": {
        "colab": {
          "base_uri": "https://localhost:8080/"
        },
        "id": "OvWIH00lk5XS",
        "outputId": "9153d2db-bd83-40fe-ccd0-448b2281418f"
      },
      "execution_count": 68,
      "outputs": [
        {
          "output_type": "stream",
          "name": "stdout",
          "text": [
            "Epoch 1/10\n",
            "1719/1719 - 9s - loss: 0.5350 - accuracy: 0.8124 - val_loss: 0.3763 - val_accuracy: 0.8678 - 9s/epoch - 5ms/step\n",
            "Epoch 2/10\n",
            "1719/1719 - 9s - loss: 0.3944 - accuracy: 0.8579 - val_loss: 0.3424 - val_accuracy: 0.8808 - 9s/epoch - 5ms/step\n",
            "Epoch 3/10\n",
            "1719/1719 - 8s - loss: 0.3568 - accuracy: 0.8699 - val_loss: 0.3359 - val_accuracy: 0.8810 - 8s/epoch - 5ms/step\n",
            "Epoch 4/10\n",
            "1719/1719 - 8s - loss: 0.3256 - accuracy: 0.8815 - val_loss: 0.3239 - val_accuracy: 0.8832 - 8s/epoch - 5ms/step\n",
            "Epoch 5/10\n",
            "1719/1719 - 9s - loss: 0.3045 - accuracy: 0.8889 - val_loss: 0.3098 - val_accuracy: 0.8898 - 9s/epoch - 5ms/step\n",
            "Epoch 6/10\n",
            "1719/1719 - 8s - loss: 0.2878 - accuracy: 0.8946 - val_loss: 0.3079 - val_accuracy: 0.8886 - 8s/epoch - 5ms/step\n",
            "Epoch 7/10\n",
            "1719/1719 - 8s - loss: 0.2746 - accuracy: 0.8996 - val_loss: 0.3122 - val_accuracy: 0.8928 - 8s/epoch - 5ms/step\n",
            "Epoch 8/10\n",
            "1719/1719 - 9s - loss: 0.2627 - accuracy: 0.9046 - val_loss: 0.3145 - val_accuracy: 0.8892 - 9s/epoch - 5ms/step\n",
            "Epoch 9/10\n",
            "1719/1719 - 7s - loss: 0.2493 - accuracy: 0.9081 - val_loss: 0.3111 - val_accuracy: 0.8884 - 7s/epoch - 4ms/step\n",
            "Epoch 10/10\n",
            "1719/1719 - 9s - loss: 0.2399 - accuracy: 0.9120 - val_loss: 0.3053 - val_accuracy: 0.8946 - 9s/epoch - 5ms/step\n",
            "runtime of program is:- 143.68705201148987 \n"
          ]
        }
      ]
    },
    {
      "cell_type": "code",
      "source": [],
      "metadata": {
        "id": "w3LZtglclEBb"
      },
      "execution_count": null,
      "outputs": []
    }
  ]
}